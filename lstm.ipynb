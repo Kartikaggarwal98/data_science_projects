{
 "cells": [
  {
   "cell_type": "code",
   "execution_count": 1,
   "metadata": {
    "collapsed": false
   },
   "outputs": [
    {
     "name": "stderr",
     "output_type": "stream",
     "text": [
      "Using Theano backend.\n"
     ]
    }
   ],
   "source": [
    "import numpy as np\n",
    "import keras"
   ]
  },
  {
   "cell_type": "code",
   "execution_count": 2,
   "metadata": {
    "collapsed": false
   },
   "outputs": [
    {
     "name": "stdout",
     "output_type": "stream",
     "text": [
      "1000000\n"
     ]
    }
   ],
   "source": [
    "x= \"0123456789\"*100000\n",
    "\n",
    "print len(x)"
   ]
  },
  {
   "cell_type": "code",
   "execution_count": 3,
   "metadata": {
    "collapsed": false
   },
   "outputs": [
    {
     "name": "stdout",
     "output_type": "stream",
     "text": [
      "set(['1', '0', '3', '2', '5', '4', '7', '6', '9', '8'])\n",
      "['1', '0', '3', '2', '5', '4', '7', '6', '9', '8']\n"
     ]
    }
   ],
   "source": [
    "print set(x)\n",
    "print list(set(x))"
   ]
  },
  {
   "cell_type": "code",
   "execution_count": 4,
   "metadata": {
    "collapsed": true
   },
   "outputs": [],
   "source": [
    "dct = ['*'] +list(set(x))\n",
    "max_features = len(dct)\n",
    "\n",
    "rev_dct= [(j,i) for i,j in enumerate(dct)]\n",
    "rev_dct= dict(rev_dct)"
   ]
  },
  {
   "cell_type": "code",
   "execution_count": 5,
   "metadata": {
    "collapsed": false
   },
   "outputs": [
    {
     "name": "stdout",
     "output_type": "stream",
     "text": [
      "['*', '1', '0', '3', '2', '5', '4', '7', '6', '9', '8']\n",
      "{'*': 0, '1': 1, '0': 2, '3': 3, '2': 4, '5': 5, '4': 6, '7': 7, '6': 8, '9': 9, '8': 10}\n"
     ]
    }
   ],
   "source": [
    "print dct\n",
    "print rev_dct"
   ]
  },
  {
   "cell_type": "code",
   "execution_count": 6,
   "metadata": {
    "collapsed": false
   },
   "outputs": [],
   "source": [
    "x= [rev_dct[ch] for ch in x]"
   ]
  },
  {
   "cell_type": "code",
   "execution_count": 7,
   "metadata": {
    "collapsed": false
   },
   "outputs": [],
   "source": [
    "n_timestamps=200\n",
    "x= x[:len(x) - len(x) % n_timestamps]\n",
    "x= np.array(x, dtype='int32').reshape((-1,n_timestamps))"
   ]
  },
  {
   "cell_type": "code",
   "execution_count": 8,
   "metadata": {
    "collapsed": false
   },
   "outputs": [
    {
     "name": "stdout",
     "output_type": "stream",
     "text": [
      "(5000, 200)\n",
      "[ 2  1  4  3  6  5  8  7 10  9  2  1  4  3  6  5  8  7 10  9]\n"
     ]
    }
   ],
   "source": [
    "print x.shape\n",
    "print x[0][:20]"
   ]
  },
  {
   "cell_type": "code",
   "execution_count": 9,
   "metadata": {
    "collapsed": true
   },
   "outputs": [],
   "source": [
    "y = np.zeros((x.shape[0], x.shape[1], max_features), dtype='int32')\n",
    "for i in np.arange(x.shape[0]):\n",
    "    for j in np.arange(x.shape[1]):\n",
    "        y[i, j, x[i, j]] = 1"
   ]
  },
  {
   "cell_type": "code",
   "execution_count": 10,
   "metadata": {
    "collapsed": false
   },
   "outputs": [
    {
     "name": "stdout",
     "output_type": "stream",
     "text": [
      "(5000, 200, 11)\n"
     ]
    }
   ],
   "source": [
    "print y.shape"
   ]
  },
  {
   "cell_type": "code",
   "execution_count": 11,
   "metadata": {
    "collapsed": true
   },
   "outputs": [],
   "source": [
    "x = np.roll(y, 1, axis=1)\n",
    "x[:, 0, :] = 0\n",
    "x[:, 0, 0] = 1"
   ]
  },
  {
   "cell_type": "code",
   "execution_count": 12,
   "metadata": {
    "collapsed": false
   },
   "outputs": [
    {
     "name": "stdout",
     "output_type": "stream",
     "text": [
      "(5000, 200, 11)\n",
      "[0 1 0 0 0 0 0 0 0 0 0]\n"
     ]
    }
   ],
   "source": [
    "print x.shape\n",
    "print x[1][2]"
   ]
  },
  {
   "cell_type": "code",
   "execution_count": 13,
   "metadata": {
    "collapsed": false
   },
   "outputs": [
    {
     "name": "stdout",
     "output_type": "stream",
     "text": [
      "____________________________________________________________________________________________________\n",
      "Layer (type)                     Output Shape          Param #     Connected to                     \n",
      "====================================================================================================\n",
      "lstm_1 (LSTM)                    (None, 200, 256)      274432      lstm_input_1[0][0]               \n",
      "____________________________________________________________________________________________________\n",
      "lstm_2 (LSTM)                    (None, 200, 256)      525312      lstm_1[0][0]                     \n",
      "____________________________________________________________________________________________________\n",
      "lstm_3 (LSTM)                    (None, 200, 256)      525312      lstm_2[0][0]                     \n",
      "____________________________________________________________________________________________________\n",
      "dense_1 (Dense)                  (None, 200, 11)       2827        lstm_3[0][0]                     \n",
      "____________________________________________________________________________________________________\n",
      "activation_1 (Activation)        (None, 200, 11)       0           dense_1[0][0]                    \n",
      "====================================================================================================\n",
      "Total params: 1,327,883\n",
      "Trainable params: 1,327,883\n",
      "Non-trainable params: 0\n",
      "____________________________________________________________________________________________________\n"
     ]
    }
   ],
   "source": [
    "from keras.models import Sequential\n",
    "from keras.layers import Dense, Dropout, Activation, LSTM\n",
    "\n",
    "model = Sequential()\n",
    "model.add(LSTM(256, return_sequences=True, input_shape=(200,  max_features)))\n",
    "model.add(LSTM(256, return_sequences=True))\n",
    "model.add(LSTM(256, return_sequences=True))\n",
    "model.add(Dense(max_features))\n",
    "model.add(Activation('softmax'))\n",
    "\n",
    "model.compile(loss='categorical_crossentropy', optimizer='rmsprop')\n",
    "model.summary()"
   ]
  },
  {
   "cell_type": "code",
   "execution_count": 14,
   "metadata": {
    "collapsed": false
   },
   "outputs": [
    {
     "name": "stderr",
     "output_type": "stream",
     "text": [
      "INFO (theano.gof.compilelock): Waiting for existing lock by process '78467' (I am process '81119')\n",
      "INFO (theano.gof.compilelock): To manually release the lock, delete /Users/apple/.theano/compiledir_Darwin-16.4.0-x86_64-i386-64bit-i386-2.7.13-64/lock_dir\n"
     ]
    },
    {
     "name": "stdout",
     "output_type": "stream",
     "text": [
      "Epoch 1/1\n",
      "391s - loss: 1.2390\n"
     ]
    }
   ],
   "source": [
    "hist = model.fit(x, y, batch_size=64, nb_epoch=1, verbose=2)"
   ]
  },
  {
   "cell_type": "code",
   "execution_count": 16,
   "metadata": {
    "collapsed": false
   },
   "outputs": [
    {
     "name": "stdout",
     "output_type": "stream",
     "text": [
      "['6822436688', '4533*02455', '4112475769', '6134249589', '*223455988', '*713155577', '*023255677', '1223757199', '1033566989', '0225466890', '0044456787', '7131456678', '6952434577', '5093355679', '6354*44343', '72344567*9', '164354*593', '9113486789', '9*32345668', '3544104446', '1231575890', '4102447781', '8734544679', '8914455578', '4944534649', '1626743466', '0134462789', '3243467912', '3343524091', '*523324679', '1923457799', '6313314577', '4125245670', '6823345578', '8865544467', '5123357779', '0643455788', '0413546889', '7393474661', '2726444668', '5*31044546', '6412144487', '1642166347', '2412467009', '2975467533', '8*28335668', '3864355556', '2001446678', '4380534556', '8146454766', '7064246778', '0833456771', '7813355578', '2852247770', '2434916330', '03*2366678', '5601333566', '9235497769', '3462135566', '7342545589', '6113356789', '3042967716', '0434507266', '9531355670', '0144676670', '10*3345368', '0633446699', '6*42334567', '4313672365', '3694335668', '9133566780', '3407216543', '8483434677', '5404135575', '77*4436558', '4232735078', '28*4*44656', '6612345687', '0164055768', '6311466670', '4011357577', '0343459690', '02*5554467', '4*1*524356', '2324504892', '*163355577', '4225966850', '*394246486', '1452157871', '*315335579', '6483334568', '363*524449', '3115355589', '8365445384', '2143141079', '1024556869', '458553454*', '4032446680', '9133456781', '6912254768', '33238619*1', '*323455588', '6193366568', '5713145568', '4022435674', '46*1144645', '1844455971', '*213234688', '7851335567', '9223257689', '2951446629', '6833346679', '6913246588', '*123446679', '361*324667', '2414*75923', '2687254566', '8*13346598', '1234578005', '*22*305977', '94543555*9', '9833456789', '5002455578', '5502324668', '8323555988', '9546633537', '1233578702', '37156*6255']\n"
     ]
    }
   ],
   "source": [
    "import numpy\n",
    "def mnrnd(probs):\n",
    "    rnd = numpy.random.random()\n",
    "    for i in xrange(len(probs)):\n",
    "        rnd -= probs[i]\n",
    "        if rnd <= 0:\n",
    "            return i\n",
    "    return i\n",
    "\n",
    "sentences = numpy.zeros((128, n_timestamps, max_features))\n",
    "sentences[:, 0, 0] = 1\n",
    "\n",
    "# Start sampling char-sequences. At each iteration i the probability over\n",
    "# the i-th character of each sequences is computed. \n",
    "for i in numpy.arange(10):\n",
    "    probs = model.predict_proba(sentences, verbose=2)[:,i,:]\n",
    "    # Go over each sequence and sample the i-th character.\n",
    "    for j in numpy.arange(len(sentences)):\n",
    "        sentences[j, i+1, mnrnd(probs[j, :])] = 1\n",
    "sentences = [sentence[1:].nonzero()[1] for sentence in sentences]\n",
    "\n",
    "# Convert to readable text.\n",
    "text = []\n",
    "for sentence in sentences:\n",
    "    text.append(''.join([dct[word] for word in sentence]))\n",
    "print text\n",
    "\n"
   ]
  },
  {
   "cell_type": "code",
   "execution_count": null,
   "metadata": {
    "collapsed": true
   },
   "outputs": [],
   "source": []
  }
 ],
 "metadata": {
  "kernelspec": {
   "display_name": "Python 2",
   "language": "python",
   "name": "python2"
  },
  "language_info": {
   "codemirror_mode": {
    "name": "ipython",
    "version": 2
   },
   "file_extension": ".py",
   "mimetype": "text/x-python",
   "name": "python",
   "nbconvert_exporter": "python",
   "pygments_lexer": "ipython2",
   "version": "2.7.13"
  }
 },
 "nbformat": 4,
 "nbformat_minor": 2
}

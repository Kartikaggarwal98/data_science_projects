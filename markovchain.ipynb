{
 "cells": [
  {
   "cell_type": "code",
   "execution_count": 3,
   "metadata": {
    "collapsed": true
   },
   "outputs": [],
   "source": [
    "import numpy as np\n"
   ]
  },
  {
   "cell_type": "code",
   "execution_count": 4,
   "metadata": {
    "collapsed": false
   },
   "outputs": [],
   "source": [
    "f= open('../datasets/shakespeare.txt','r')\n",
    "d=str(f.read())\n",
    "f.close()"
   ]
  },
  {
   "cell_type": "code",
   "execution_count": 26,
   "metadata": {
    "collapsed": false
   },
   "outputs": [
    {
     "name": "stdout",
     "output_type": "stream",
     "text": [
      "﻿The Project Gutenberg EBook of The Complete Works of William Shakespeare, by\r\n",
      "William Shakespeare\r\n",
      "\r\n",
      "\n"
     ]
    }
   ],
   "source": [
    "print d[:104]"
   ]
  },
  {
   "cell_type": "code",
   "execution_count": 27,
   "metadata": {
    "collapsed": false
   },
   "outputs": [],
   "source": [
    "data= d.strip().lower()\n",
    "data=data[104:]"
   ]
  },
  {
   "cell_type": "code",
   "execution_count": 8,
   "metadata": {
    "collapsed": false
   },
   "outputs": [
    {
     "name": "stdout",
     "output_type": "stream",
     "text": [
      "5589887\n"
     ]
    }
   ],
   "source": [
    "print len(data)"
   ]
  },
  {
   "cell_type": "code",
   "execution_count": null,
   "metadata": {
    "collapsed": false
   },
   "outputs": [],
   "source": [
    "order=3\n",
    "lm={}\n",
    "n=len(data)\n",
    "for ix in range(n):\n",
    "    dt= '*'*order+data\n",
    "    ctx= dt[ix:ix+order]\n",
    "    nxt=dt[ix+order]\n",
    "    \n",
    "    #print ctx, nxt\n",
    "    try:\n",
    "        lm[ctx][nxt]+=1\n",
    "    except:\n",
    "        try:\n",
    "            lm[ctx][nxt]=1\n",
    "        except:\n",
    "            lm[ctx]={}\n",
    "            lm[ctx][nxt]=1\n",
    "        \n"
   ]
  },
  {
   "cell_type": "code",
   "execution_count": 35,
   "metadata": {
    "collapsed": false
   },
   "outputs": [
    {
     "name": "stdout",
     "output_type": "stream",
     "text": [
      "{'a': 338, ' ': 384, ':': 1, 'e': 931, \"'\": 16, 'f': 3, 'i': 235, '-': 1, '\\r': 6, 'l': 3, 'o': 322, ',': 28, ')': 1, 's': 7, 'r': 32, 'u': 18, 'y': 251, '.': 6, '?': 1}\n"
     ]
    }
   ],
   "source": [
    "print lm['th']"
   ]
  },
  {
   "cell_type": "code",
   "execution_count": 36,
   "metadata": {
    "collapsed": true
   },
   "outputs": [],
   "source": [
    "for k in lm.keys():\n",
    "    s = 0\n",
    "    for kx in lm[k].keys():\n",
    "        s += lm[k][kx]\n",
    "    for kx in lm[k].keys():\n",
    "        lm[k][kx] /= float(s)\n",
    "    # print lm[k], k"
   ]
  },
  {
   "cell_type": "code",
   "execution_count": 37,
   "metadata": {
    "collapsed": false
   },
   "outputs": [
    {
     "name": "stdout",
     "output_type": "stream",
     "text": [
      "{'a': 0.13080495356037153, ' ': 0.14860681114551083, ':': 0.0003869969040247678, 'e': 0.3602941176470588, \"'\": 0.006191950464396285, 'f': 0.0011609907120743034, 'i': 0.09094427244582043, '-': 0.0003869969040247678, '\\r': 0.0023219814241486067, 'l': 0.0011609907120743034, 'o': 0.12461300309597523, ',': 0.010835913312693499, ')': 0.0003869969040247678, 's': 0.0027089783281733747, 'r': 0.01238390092879257, 'u': 0.00696594427244582, 'y': 0.09713622291021672, '.': 0.0023219814241486067, '?': 0.0003869969040247678}\n"
     ]
    }
   ],
   "source": [
    "print lm['th']"
   ]
  },
  {
   "cell_type": "code",
   "execution_count": 38,
   "metadata": {
    "collapsed": true
   },
   "outputs": [],
   "source": [
    "def generate_chars(ctx, model):\n",
    "    r = np.random.random()\n",
    "    try:\n",
    "        possible = model[ctx]\n",
    "        for k in possible.keys():\n",
    "            if r-possible[k] < 0:\n",
    "                return k\n",
    "        return possible.keys()[int(len(possible.keys())*r)]\n",
    "    except:\n",
    "        return ' '"
   ]
  },
  {
   "cell_type": "code",
   "execution_count": 39,
   "metadata": {
    "collapsed": false
   },
   "outputs": [
    {
     "data": {
      "text/plain": [
       "'r'"
      ]
     },
     "execution_count": 39,
     "metadata": {},
     "output_type": "execute_result"
    }
   ],
   "source": [
    "generate_chars('sg', lm)\n"
   ]
  },
  {
   "cell_type": "code",
   "execution_count": 40,
   "metadata": {
    "collapsed": true
   },
   "outputs": [],
   "source": [
    "def sample(start='*', length=500):\n",
    "    text = start*order\n",
    "    for ix in range(length):\n",
    "        text += generate_chars(text[ix:ix+order], lm)\n",
    "    return text"
   ]
  },
  {
   "cell_type": "code",
   "execution_count": 41,
   "metadata": {
    "collapsed": false
   },
   "outputs": [
    {
     "name": "stdout",
     "output_type": "stream",
     "text": [
      "***\r\n",
      "        yoults amar hatrit\r\n",
      "   onigue.\r\n",
      "   reis guenle as proorfor kill wand ple grasky: had\r\n",
      "      unnot\r\n",
      "usts!\r\n",
      "   vul mot\r\n",
      "   lot minfrom, ye,\r\n",
      "re tay?\r\n",
      "\r\n",
      "  whel:\r\n",
      "        jurld uns se?\r\n",
      "rep-loque-teapts (dove)\r\n",
      "    loongry ke, wwww.\r\n",
      "us, dy hato of wity efous); tur mou awn its.\r\n",
      "  urry krue lou a\r\n",
      "       ww.\r\n",
      "     prormoan'st be liveyoulne hy ans?\r\n",
      "\r\n",
      "  th.\r\n",
      "   plas.\r\n",
      "   tut ne th, knot smay.\r\n",
      "        sy?\r\n",
      "  retake bit nops pritarfut for my for younds.\r\n",
      "      knot ths,\r\n",
      "  jund dre glud,\r\n",
      "    mut is' th\r\n",
      "   jany unin so.\r\n",
      "  jecom,\r\n",
      "    light arr, foettext knovence i, nelf shat andot lim.    youlgainly lut:\r\n",
      "      lis (yerhet vou.\r\n",
      "  otly?\r\n",
      "  knight:\r\n",
      "    nonque th-bosunme,\r\n",
      "  you\r\n",
      "    musy hat ty?\r\n",
      "us you, i dowitheir wher\r\n",
      "\r\n",
      "    you?\r\n",
      "\r\n",
      "    ruprywhinigemnsor th-plowareonnot.\r\n",
      "    kinonfrutly?\r\n",
      "   oppy.\r\n",
      "us,\r\n",
      "re the 18\r\n",
      "       my i a sy rehic ot biruive) might dwer kiso of it?\r\n",
      "\r\n",
      "   you dies of friumnstly igh yound se fandran.\r\n",
      "   ou witne?\r\n",
      "  joys.\r\n",
      "     of hold not.\r\n",
      "     smatte\n"
     ]
    }
   ],
   "source": [
    "print sample(length=1000)"
   ]
  },
  {
   "cell_type": "code",
   "execution_count": null,
   "metadata": {
    "collapsed": true
   },
   "outputs": [],
   "source": []
  }
 ],
 "metadata": {
  "kernelspec": {
   "display_name": "Python 2",
   "language": "python",
   "name": "python2"
  },
  "language_info": {
   "codemirror_mode": {
    "name": "ipython",
    "version": 2
   },
   "file_extension": ".py",
   "mimetype": "text/x-python",
   "name": "python",
   "nbconvert_exporter": "python",
   "pygments_lexer": "ipython2",
   "version": "2.7.13"
  }
 },
 "nbformat": 4,
 "nbformat_minor": 2
}

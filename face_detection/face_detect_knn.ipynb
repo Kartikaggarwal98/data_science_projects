{
 "cells": [
  {
   "cell_type": "code",
   "execution_count": 2,
   "metadata": {
    "collapsed": true
   },
   "outputs": [],
   "source": [
    "import numpy as np\n",
    "from matplotlib import pyplot as plt\n",
    "%matplotlib inline"
   ]
  },
  {
   "cell_type": "code",
   "execution_count": 40,
   "metadata": {
    "collapsed": false
   },
   "outputs": [
    {
     "name": "stdout",
     "output_type": "stream",
     "text": [
      "(6, 100, 100)\n",
      "(6,)\n"
     ]
    }
   ],
   "source": [
    "f= np.load('./data/my_face_data.npy')\n",
    "print f.shape\n",
    "l=np.load('./data/my_face_labels.npy')\n",
    "#l=np.asarray([0,0,1,1,2,2])\n",
    "print l.shape"
   ]
  },
  {
   "cell_type": "code",
   "execution_count": 42,
   "metadata": {
    "collapsed": false
   },
   "outputs": [
    {
     "name": "stdout",
     "output_type": "stream",
     "text": [
      "(6, 10000)\n"
     ]
    }
   ],
   "source": [
    "f=f.reshape((f.shape[0], f.shape[1]*f.shape[2]))\n",
    "print f.shape"
   ]
  },
  {
   "cell_type": "code",
   "execution_count": 43,
   "metadata": {
    "collapsed": false
   },
   "outputs": [
    {
     "name": "stdout",
     "output_type": "stream",
     "text": [
      "1.41421356237\n"
     ]
    }
   ],
   "source": [
    "def dist(x1,x2):\n",
    "    return np.sqrt(sum((x1-x2)**2))\n",
    "print dist(np.array([0,0]),np.array([1,1]))"
   ]
  },
  {
   "cell_type": "code",
   "execution_count": 61,
   "metadata": {
    "collapsed": true
   },
   "outputs": [],
   "source": [
    "def knn(X_train, x, y_train, k=1):\n",
    "    vals = []\n",
    "    \n",
    "    for ix in range(X_train.shape[0]):\n",
    "        v = [dist(x, X_train[ix, :]), y_train[ix]]\n",
    "        vals.append(v)\n",
    "    \n",
    "    updated_vals = sorted(vals, key=lambda x: x[0])\n",
    "    pred_arr = np.asarray(updated_vals[:k])\n",
    "    pred_arr = np.unique(pred_arr[:, 1], return_counts=True)\n",
    "    pred = pred_arr[1].argmax()\n",
    "    # return pred_arr[0][pred]\n",
    "    return pred_arr, pred_arr[0][pred]"
   ]
  },
  {
   "cell_type": "code",
   "execution_count": 62,
   "metadata": {
    "collapsed": false
   },
   "outputs": [
    {
     "name": "stdout",
     "output_type": "stream",
     "text": [
      "['kartik' 'kartik' 'richa' 'richa' 'sarthak' 'sarthak']\n",
      "(6, 10000) (10000,)\n",
      "sarthak\n"
     ]
    }
   ],
   "source": [
    "print l\n",
    "X_train = f[:, :]\n",
    "X_test = f[4, :]\n",
    "print X_train.shape, X_test.shape\n",
    "\n",
    "pr = knn(X_train, X_test, l[:])\n",
    "print pr[1]"
   ]
  },
  {
   "cell_type": "code",
   "execution_count": null,
   "metadata": {
    "collapsed": true
   },
   "outputs": [],
   "source": []
  }
 ],
 "metadata": {
  "anaconda-cloud": {},
  "kernelspec": {
   "display_name": "Python [default]",
   "language": "python",
   "name": "python2"
  },
  "language_info": {
   "codemirror_mode": {
    "name": "ipython",
    "version": 2
   },
   "file_extension": ".py",
   "mimetype": "text/x-python",
   "name": "python",
   "nbconvert_exporter": "python",
   "pygments_lexer": "ipython2",
   "version": "2.7.12"
  }
 },
 "nbformat": 4,
 "nbformat_minor": 1
}
